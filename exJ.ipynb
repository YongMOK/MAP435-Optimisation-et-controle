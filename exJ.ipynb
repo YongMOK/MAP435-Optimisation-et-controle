{
 "cells": [
  {
   "attachments": {},
   "cell_type": "markdown",
   "metadata": {},
   "source": [
    "# MAP 435 - TP à trous à rendre pour le dimanche 12 mai 23h59\n",
    "\n",
    "Le but de cet exercice est de compléter les fonctions manquantes en remplaçant les parties `# YOUR CODE HERE` par votre code.\n",
    "\n",
    "**Attention** la correction des notebooks se faisant de manière automatique :\n",
    "- il faut que vous supprimiez la ligne `raise NotImplementedError()` ;\n",
    "- les seules cellules que vous devez modifier sont celles comportant la mention `# YOUR CODE HERE` ;\n",
    "- **vous ne devez pas modifier le nom du fichier faute de quoi votre devoir ne sera pas corrigé**.\n",
    "\n",
    "Merci d'inscrire votre nom dans la cellule ci-dessous."
   ]
  },
  {
   "cell_type": "code",
   "execution_count": null,
   "metadata": {},
   "outputs": [],
   "source": []
  },
  {
   "cell_type": "markdown",
   "metadata": {
    "deletable": false,
    "editable": false,
    "nbgrader": {
     "cell_type": "markdown",
     "checksum": "b8a4908f1d9b8417733f232bc5564754",
     "grade": false,
     "grade_id": "cell-3447fac8b4502e5f",
     "locked": true,
     "schema_version": 3,
     "solution": false,
     "task": false
    }
   },
   "source": [
    "# Algorithmes de gradient VS algorithme multi-pas\n",
    "\n",
    "Le but de cet exercice est de comparer les algorithmes du gradient à pas fixe et du gradient conjugué avec un algorithme multi-pas.\n",
    "\n",
    "Une fois les différents algorithmes et les différentes variables implémentés vous pourrez alors observer la courbe d'erreur pour les algorithmes du gradient à pas fixe, du gradient conjugué et de l'algorithme multi-pas proposé dans ce TP en fonction du nombre d'itérations et ainsi observer si le comportement des ces algorithmes est en accord avec ce qui est annoncé dans votre polycopié.\n"
   ]
  },
  {
   "cell_type": "markdown",
   "metadata": {
    "deletable": false,
    "editable": false,
    "nbgrader": {
     "cell_type": "markdown",
     "checksum": "749c4d2575fc0dbd8c35a7904f8f2a46",
     "grade": false,
     "grade_id": "cell-ba5ddc117cb82a8e",
     "locked": true,
     "schema_version": 3,
     "solution": false,
     "task": false
    }
   },
   "source": [
    "## Chargement des librairies utilisées"
   ]
  },
  {
   "cell_type": "code",
   "execution_count": 1,
   "metadata": {
    "deletable": false,
    "editable": false,
    "nbgrader": {
     "cell_type": "code",
     "checksum": "76ab47575a40210c6f12f19380c1e1fa",
     "grade": false,
     "grade_id": "cell-1980af3b09a60a4a",
     "locked": true,
     "schema_version": 3,
     "solution": false,
     "task": false
    }
   },
   "outputs": [],
   "source": [
    "import numpy as np\n",
    "import numpy.testing as npt\n",
    "import matplotlib.pyplot as plt\n",
    "%matplotlib inline\n",
    "\n",
    "import scipy as sp\n",
    "from scipy import sparse\n",
    "from scipy.sparse import linalg"
   ]
  },
  {
   "cell_type": "markdown",
   "metadata": {},
   "source": [
    "## Présentation des différents algorithmes\n",
    "On se propose ici de comparer l'algorithme du gradient à pas fixe et celui du gradient conjugué avec l'algorithme de la boule pesante.\n",
    "\n",
    "### Algorithmes déjà implémentés\n",
    "\n",
    "Vous trouverez ci-dessous les algorithmes du gradient à pas fixe et du gradient conjugué. Ces algorithmes sont complets et **vous n'avez pas à les modifier**. Ils sont simplement présents afin de comparer et valider le résultat que vous obtiendrez avec l'algorithme présenté dans ce TP.\n",
    "\n",
    "\n",
    "#### Algorithme de gradient à pas fixe\n",
    "\n",
    "On implémente d'abord la méthode du gradient à pas fixe. \n",
    "Les arguments sont : la fonctionnelle à minimiser `f`, son gradient `df` et un point initial `x_init`. On y ajoute les arguments optionnels suivants : le pas du gradient `pas`, la tolérance demandée `tol` et le nombre maximal d'itérations `maxiter`.\n",
    "\n",
    "Soit $x_0 \\in \\mathbb R^N$ donné. On définit la suite $(x_k)_{k\\ge 0}$ par :\n",
    "\n",
    "\\begin{equation}\n",
    "x_{k+1} = x_k - \\rho \\nabla J(x_k),\n",
    "\\end{equation}\n",
    "\n",
    "où $\\rho >0$ est le pas de l'algorithme.\n"
   ]
  },
  {
   "cell_type": "code",
   "execution_count": 2,
   "metadata": {
    "deletable": false,
    "editable": false,
    "nbgrader": {
     "cell_type": "code",
     "checksum": "afa54b0b46a6dd92a07291a79453e85d",
     "grade": false,
     "grade_id": "cell-18c5ab630f188e1c",
     "locked": true,
     "schema_version": 3,
     "solution": false,
     "task": false
    }
   },
   "outputs": [],
   "source": [
    "def gradientPasFixe(f,df,x_init,pas=1e-01,tol=1e-06,maxiter=200):\n",
    "    \n",
    "    # initialisation\n",
    "    x=x_init.copy()\n",
    "    xtab=[]\n",
    "    ftab=[]\n",
    "    \n",
    "    xtab.append(x) # on ajoute x à la liste xtab\n",
    "    ftab.append(f(x))\n",
    "    \n",
    "    it=0 # compteur d'itération\n",
    "    \n",
    "    while((it==0) or (it<maxiter and np.linalg.norm(df(xtab[-1]))>tol)):\n",
    "    \n",
    "        x=x-pas*df(x)\n",
    "        \n",
    "        xtab.append(x)\n",
    "        ftab.append(f(x))\n",
    "        \n",
    "        it=it+1\n",
    "    \n",
    "    # booléen pour indiquer la convergence\n",
    "    if(it==maxiter):\n",
    "        conv = False\n",
    "    else:\n",
    "        conv = True\n",
    "    \n",
    "    return xtab, ftab, conv\n",
    "    "
   ]
  },
  {
   "cell_type": "markdown",
   "metadata": {
    "deletable": false,
    "editable": false,
    "nbgrader": {
     "cell_type": "markdown",
     "checksum": "e24b94cb2fdec6beecc42816a1024565",
     "grade": false,
     "grade_id": "cell-ff02c3235a03cf58",
     "locked": true,
     "schema_version": 3,
     "solution": false,
     "task": false
    }
   },
   "source": [
    "#### Algorithme du gradient conjugué\n",
    "\n",
    "On implémente maintenant l'algorithme du gradient conjugué appliqué à la fonctionnelle quadratique $J: \\mathbb R^2 \\rightarrow \\mathbb R$ telle que  \n",
    "$$ J(x) = \\frac12 \\langle Ax,x\\rangle - \\langle b,x\\rangle,$$\n",
    "où $A\\in\\mathcal M_n(\\mathbb R)$ est une matrice symétrique définie positive.\n",
    "\n",
    "Dans ce cas l'algorithme s'écrit de la manière suivante :\n",
    "\n",
    "\\begin{equation}\n",
    "\\left\\{\n",
    "\\begin{aligned}\n",
    " & x_0\\text{ étant donné, on calcule } r_0=Ax_0-b \\text{ et }p_0=r_0.\\\\\n",
    "  &\\text{Pour }k=1,2,\\ldots\\text{, on calcule :}\\\\\n",
    "  &\\left\\{\n",
    "  \\begin{aligned}\n",
    "  \\mu_k&=\\frac{\\|r_k\\|^2}{\\langle A p_k, p_k \\rangle},\\\\\n",
    "  x_{k+1}&=x_k - \\mu_k p_k,\\\\\n",
    "  r_{k+1} &= r_k - \\mu_k A p_k.\n",
    " \\end{aligned}\n",
    " \\right.\\\\\n",
    " &\\text{Si }\\|r_k\\|< \\varepsilon ||b||\\text{ alors on s'arrête.}\\\\\n",
    " &\\text{Sinon }\n",
    " \\left\\{\n",
    "\\begin{aligned}\n",
    "\\beta_k &= \\frac{\\|r_{k+1}\\|^2}{\\|r_k\\|^2},\\\\\n",
    " p_{k+1}&=r_{k+1} + \\beta_k p_k.\n",
    "\\end{aligned}\n",
    "\\right.\n",
    " \\end{aligned}\n",
    " \\right.\n",
    "\\end{equation}\n"
   ]
  },
  {
   "cell_type": "code",
   "execution_count": 3,
   "metadata": {
    "deletable": false,
    "editable": false,
    "nbgrader": {
     "cell_type": "code",
     "checksum": "5c61478b583044354cdc22c156b6c317",
     "grade": false,
     "grade_id": "cell-41e795fbca7ae3b8",
     "locked": true,
     "schema_version": 3,
     "solution": false,
     "task": false
    }
   },
   "outputs": [],
   "source": [
    "def gradientConjugue(A,b,f,x_init,tol=1e-06,maxiter=200):\n",
    "    \n",
    "    # initialisation\n",
    "    x=x_init.copy()\n",
    "    r=A@x-b\n",
    "    p=r.copy()\n",
    "    \n",
    "    ps_r=np.dot(r,r)\n",
    "    \n",
    "    xtab=[]\n",
    "    ftab=[]\n",
    "    xtab.append(x) # on ajoute x à la liste xtab\n",
    "    ftab.append(f(x))\n",
    "    \n",
    "    it=0 # compteur d'itération\n",
    "\n",
    "    while((it==0) or (it<maxiter and np.linalg.norm(A@(xtab[-1])-b)>tol)):\n",
    "        \n",
    "        # Calcul du produit matriciel A p_k\n",
    "        Ap=A@p\n",
    "\n",
    "        # Calcul de mu_k\n",
    "        mu=ps_r/np.dot(Ap,p)\n",
    "\n",
    "        # Calcul de x_{k+1}\n",
    "        x=x-mu*p\n",
    "\n",
    "        # Calcul de r_{k+1}\n",
    "        r=r-mu*Ap\n",
    "\n",
    "        # Calcul du produit scalaire <r_{k+1},r_{k+1}> \n",
    "        ps_rnew=np.dot(r,r)\n",
    "\n",
    "        # Calcul de beta_{k+1}\n",
    "        beta=ps_rnew/ps_r\n",
    "\n",
    "        # Calcul de p_{k+1}\n",
    "        p=r+beta*p\n",
    "\n",
    "        # On met à jour la valeur du produit scalaire <r_k,z_k>\n",
    "        ps_r=ps_rnew\n",
    "        \n",
    "        xtab.append(x)\n",
    "        ftab.append(f(x))\n",
    "        it=it+1\n",
    "        \n",
    "    # booléen pour indiquer la convergence\n",
    "    # np.isnan renvoie \"False\" si la quantité est bien un nombre et \"True\" sinon \n",
    "    if(it==maxiter) or (np.isnan(np.linalg.norm(x))==True):\n",
    "        conv = False\n",
    "    else:\n",
    "        conv = True\n",
    "    \n",
    "    return xtab, ftab, conv\n",
    "    "
   ]
  },
  {
   "cell_type": "markdown",
   "metadata": {},
   "source": [
    "### Algorithme de la boule pesante \n",
    "\n",
    "On s'intéresse dans ce TP à l'algorithme de la boule pesante présenté dans votre polycopié et rappelé ci-dessous. \n",
    "\n",
    "On construit la suite $(x_k)_k$ définie par :\n",
    "\n",
    "\\begin{equation}\n",
    "\\left\\{\n",
    "\\begin{aligned}\n",
    "&x_0,x_{-1} \\in \\mathbb R^N \\text{ quelconque}, \\\\\n",
    "&x_{k+1} = x_k - \\mu \\nabla J(x_k)+\\nu(x_k-x_{k-1}),\n",
    "\\end{aligned}\n",
    "\\right.\n",
    "\\end{equation}\n",
    "\n",
    "où $\\mu >0$ et $\\nu>0$ sont les pas de l'algorithme. \n",
    "\n",
    "Le but est alors de mettre en place cet algorithme et de le comparer avec les algorithmes du gradient à pas fixe et de gradient conjugué. "
   ]
  },
  {
   "cell_type": "markdown",
   "metadata": {
    "deletable": false,
    "editable": false,
    "nbgrader": {
     "cell_type": "markdown",
     "checksum": "304232c5500d89b67afe1327231c5f9f",
     "grade": false,
     "grade_id": "cell-a5c502955c01811b",
     "locked": true,
     "schema_version": 3,
     "solution": false,
     "task": false
    }
   },
   "source": [
    "**Q1)** Complétez le code ci-dessous qui, connaisant les pas $\\mu$ et $\\nu$, permet de calculer l'itérée $x_{k+1}$ en fonction des itérées $x_k$ et $x_{k-1}$ pour l'algorithme de la boule pesante.\n",
    "\n",
    "Les arguments de cette fonction sont : la valeur de l'itérée $x_k$ notée `x`, la valeur de l'itérée $x_{k-1}$ notée `x_moins`, le gradient de la fonctionnelle à minimiser `df` ainsi que les pas $\\mu$ et $\\nu$ notés respectivement `pas_mu` et `pas_nu`.\n"
   ]
  },
  {
   "cell_type": "code",
   "execution_count": 4,
   "metadata": {
    "deletable": false,
    "nbgrader": {
     "cell_type": "code",
     "checksum": "4f6e04ba6b7f3be504182d633baf284b",
     "grade": false,
     "grade_id": "cell-d49663c20646d3a5",
     "locked": false,
     "schema_version": 3,
     "solution": true,
     "task": false
    }
   },
   "outputs": [],
   "source": [
    "def fct_calcul_iteree(x, x_moins, df, pas_mu, pas_nu):\n",
    "    # YOUR CODE HERE\n",
    "    x_plus = x - pas_mu*df(x) + pas_nu*(x - x_moins)\n",
    "    #raise NotImplementedError()\n",
    "    return x_plus\n",
    "    "
   ]
  },
  {
   "cell_type": "markdown",
   "metadata": {
    "deletable": false,
    "editable": false,
    "nbgrader": {
     "cell_type": "markdown",
     "checksum": "970d5a8085442d983fa07c2fecdcf024",
     "grade": false,
     "grade_id": "cell-52aa5acc3e54174a",
     "locked": true,
     "schema_version": 3,
     "solution": false,
     "task": false
    }
   },
   "source": [
    "On donne maintenant l'algorithme de la boule pesante dans lequel l'itérée $x_{k+1}$ est obtenue en utilisant la fonction `fct_calcul_iteree` que vous venez de construire.\n",
    "\n",
    "Les arguments de cette fonction sont : la fonctionnelle à minimiser `f`, son gradient `df` et un point initial `x_init`. On y ajoute les arguments optionnels suivants : les pas $\\mu$ et $\\nu$ notés respectivement `pas_mu` et `pas_nu`, la tolérance demandée `tol` et le nombre maximal d'itérations `maxiter`."
   ]
  },
  {
   "cell_type": "code",
   "execution_count": 5,
   "metadata": {
    "deletable": false,
    "editable": false,
    "nbgrader": {
     "cell_type": "code",
     "checksum": "9f4d33d4f37ffd6cb57eed8821f2944c",
     "grade": false,
     "grade_id": "cell-e9783decfa757f8f",
     "locked": true,
     "schema_version": 3,
     "solution": false,
     "task": false
    }
   },
   "outputs": [],
   "source": [
    "def boule_pesante(f,df,x_init,pas_mu=1e-01,pas_nu=1e-01,tol=1e-06,maxiter=200):\n",
    "    \n",
    "    # initialisation\n",
    "    x=x_init.copy()\n",
    "    x_moins=x_init.copy()\n",
    "    xtab=[]\n",
    "    ftab=[]\n",
    "    \n",
    "    xtab.append(x) # on ajoute x à la liste xtab\n",
    "    ftab.append(f(x))\n",
    "    \n",
    "    it=0 # compteur d'itération\n",
    "    \n",
    "    while((it==0) or (it<maxiter and np.linalg.norm(df(xtab[-1]))>tol)):\n",
    "        \n",
    "        x_plus = fct_calcul_iteree(x, x_moins, df, pas_mu, pas_nu)\n",
    "        \n",
    "        x_moins=x\n",
    "        x=x_plus\n",
    "        \n",
    "        xtab.append(x)\n",
    "        ftab.append(f(x))\n",
    "        \n",
    "        it=it+1\n",
    "    \n",
    "    # booléen pour indiquer la convergence\n",
    "    if(it==maxiter):\n",
    "        conv = False\n",
    "    else:\n",
    "        conv = True\n",
    "    \n",
    "    return xtab, ftab, conv\n",
    "    "
   ]
  },
  {
   "cell_type": "markdown",
   "metadata": {
    "deletable": false,
    "editable": false,
    "nbgrader": {
     "cell_type": "markdown",
     "checksum": "d06b6dc6f6a38b02f89b12d13915850e",
     "grade": false,
     "grade_id": "cell-a952b4db8af8c038",
     "locked": true,
     "schema_version": 3,
     "solution": false,
     "task": false
    }
   },
   "source": [
    "## Définition du problème\n",
    "\n",
    "On va chercher à minimiser la fonctionnelle suivante $J: \\mathbb R^n \\rightarrow \\mathbb R$ telle que  \n",
    "$$ J(x) = \\frac\\lambda2 \\|x-v\\|^2_2 + \\frac12 \\|Dx\\|^2_2,$$\n",
    "avec $v\\in\\mathbb R^n$ quelconque et $D$ la matrice carrée de taille $n$ telle que \n",
    "\\begin{equation}\n",
    "Dx = \n",
    "\\left\\{\n",
    "\\begin{alignedat}{2}\n",
    "x_{i+1}&-x_i \\quad &&\\text{ si } \\, i\\ne n, \\\\\n",
    "&0 \\quad &&\\text{ sinon,}\n",
    " \\end{alignedat}\n",
    "\\right. \\quad \\text{ pour } x=(x_i)_{1\\le i \\le n}.\n",
    "\\end{equation}\n",
    "\n",
    "\n",
    "**Q2)** Compléter la fonction `const_D(n)` qui permet de construire la matrice  **creuse** carrée $D$ de taille $n$. **Attention à bien construire une matrice creuse !**"
   ]
  },
  {
   "cell_type": "code",
   "execution_count": 6,
   "metadata": {
    "deletable": false,
    "nbgrader": {
     "cell_type": "code",
     "checksum": "81545f0ba9325d9bf52163fa2b7498f5",
     "grade": false,
     "grade_id": "cell-fec9f9d8e331c5f3",
     "locked": false,
     "schema_version": 3,
     "solution": true,
     "task": false
    }
   },
   "outputs": [],
   "source": [
    "def const_D(n):\n",
    "    # YOUR CODE HERE\n",
    "    #raise NotImplementedError()\n",
    "    t = np.zeros((n,n))\n",
    "    for i in range(n-1):\n",
    "       t[i][i] = -1\n",
    "       t[i][i+1] = 1\n",
    "    D = sparse.csr_matrix(t)\n",
    "    return D\n",
    "   \n"
   ]
  },
  {
   "cell_type": "code",
   "execution_count": 7,
   "metadata": {
    "deletable": false,
    "editable": false,
    "nbgrader": {
     "cell_type": "code",
     "checksum": "d35d345bc78e0b5640ef04ddc054075c",
     "grade": true,
     "grade_id": "cell-6311dbb11db9dea6",
     "locked": true,
     "points": 4,
     "schema_version": 3,
     "solution": false,
     "task": false
    }
   },
   "outputs": [
    {
     "name": "stdout",
     "output_type": "stream",
     "text": [
      "[[-1.  1.  0.  0.  0.  0.  0.  0.  0.  0.]\n",
      " [ 0. -1.  1.  0.  0.  0.  0.  0.  0.  0.]\n",
      " [ 0.  0. -1.  1.  0.  0.  0.  0.  0.  0.]\n",
      " [ 0.  0.  0. -1.  1.  0.  0.  0.  0.  0.]\n",
      " [ 0.  0.  0.  0. -1.  1.  0.  0.  0.  0.]\n",
      " [ 0.  0.  0.  0.  0. -1.  1.  0.  0.  0.]\n",
      " [ 0.  0.  0.  0.  0.  0. -1.  1.  0.  0.]\n",
      " [ 0.  0.  0.  0.  0.  0.  0. -1.  1.  0.]\n",
      " [ 0.  0.  0.  0.  0.  0.  0.  0. -1.  1.]\n",
      " [ 0.  0.  0.  0.  0.  0.  0.  0.  0.  0.]]\n"
     ]
    }
   ],
   "source": [
    "## On affiche votre matrice D\n",
    "\n",
    "## Calcul de la matrice que vous avez construite\n",
    "mat_D_test=const_D(10)\n",
    "\n",
    "## On affiche la matrice pour une petite valeur de n\n",
    "print(mat_D_test.todense())\n"
   ]
  },
  {
   "cell_type": "code",
   "execution_count": 8,
   "metadata": {
    "deletable": false,
    "editable": false,
    "nbgrader": {
     "cell_type": "code",
     "checksum": "f818d3256ac8b6560ea58a5d59143f99",
     "grade": false,
     "grade_id": "cell-b30530e2f4d95512",
     "locked": true,
     "schema_version": 3,
     "solution": false,
     "task": false
    }
   },
   "outputs": [],
   "source": [
    "# taille de la matrice\n",
    "n = 5000\n",
    "\n",
    "# construction de la matrice D\n",
    "mat_D = const_D(n)\n",
    "\n",
    "# définition du vecteur v\n",
    "vec_v = np.random.rand(n)\n",
    "\n",
    "# définition du paramètre lambda\n",
    "l=0.8"
   ]
  },
  {
   "cell_type": "markdown",
   "metadata": {},
   "source": [
    "**Q3)** Construire la fonctionnelle $J$."
   ]
  },
  {
   "cell_type": "code",
   "execution_count": 9,
   "metadata": {
    "deletable": false,
    "nbgrader": {
     "cell_type": "code",
     "checksum": "83398f293a05dcccf495fb720987c25a",
     "grade": false,
     "grade_id": "cell-504a1e6a75d4dbe2",
     "locked": false,
     "schema_version": 3,
     "solution": true,
     "task": false
    }
   },
   "outputs": [],
   "source": [
    "## Définition de la fonctionnelle\n",
    "def fct_J(x):\n",
    "    # YOUR CODE HERE\n",
    "    #raise NotImplementedError()\n",
    "    v = x - vec_v\n",
    "    w = mat_D@x\n",
    "    J = 0.5*l*np.dot(v,v) + 0.5*np.dot(w,w)\n",
    "    return J"
   ]
  },
  {
   "cell_type": "code",
   "execution_count": 10,
   "metadata": {
    "deletable": false,
    "editable": false,
    "nbgrader": {
     "cell_type": "code",
     "checksum": "6e87533900eed54f624168304870d744",
     "grade": true,
     "grade_id": "cell-bea1ab7eb649e22f",
     "locked": true,
     "points": 2,
     "schema_version": 3,
     "solution": false,
     "task": false
    }
   },
   "outputs": [
    {
     "name": "stdout",
     "output_type": "stream",
     "text": [
      "657.5784041284627\n"
     ]
    }
   ],
   "source": [
    "x_test = np.ones(n)\n",
    "\n",
    "## Valeur de la fonctionnelle pour un vecteur x aléatoire\n",
    "print(fct_J(x_test))\n"
   ]
  },
  {
   "cell_type": "markdown",
   "metadata": {},
   "source": [
    "**Q4)** Construire le gradient de la fonctionnelle $J$."
   ]
  },
  {
   "cell_type": "code",
   "execution_count": 11,
   "metadata": {
    "deletable": false,
    "nbgrader": {
     "cell_type": "code",
     "checksum": "7c0f8691acde5854af24e9093d93cdad",
     "grade": false,
     "grade_id": "cell-4ad85e6309998942",
     "locked": false,
     "schema_version": 3,
     "solution": true,
     "task": false
    }
   },
   "outputs": [],
   "source": [
    "def fct_gradJ(x):\n",
    "    # YOUR CODE HERE\n",
    "    #raise NotImplementedError()\n",
    "    B = np.transpose(mat_D)\n",
    "    v = x - vec_v\n",
    "    w = mat_D@x\n",
    "    w = B@w\n",
    "    dJ = l*v + w\n",
    "    return dJ"
   ]
  },
  {
   "cell_type": "code",
   "execution_count": 12,
   "metadata": {
    "deletable": false,
    "editable": false,
    "nbgrader": {
     "cell_type": "code",
     "checksum": "422df6c841e517aea8d25c2e991a6284",
     "grade": true,
     "grade_id": "cell-d6034db61587b7f2",
     "locked": true,
     "points": 4,
     "schema_version": 3,
     "solution": false,
     "task": false
    }
   },
   "outputs": [
    {
     "name": "stdout",
     "output_type": "stream",
     "text": [
      "[0.7441567  0.78131201 0.51214618 ... 0.72264833 0.79155305 0.78113796]\n"
     ]
    }
   ],
   "source": [
    "x_test=np.ones(n)\n",
    "\n",
    "## Valeur du gradient de la fonctionnelle pour un vecteur x aléatoire\n",
    "print(fct_gradJ(x_test))\n"
   ]
  },
  {
   "cell_type": "markdown",
   "metadata": {
    "deletable": false,
    "editable": false,
    "nbgrader": {
     "cell_type": "markdown",
     "checksum": "5bab9d4efed590d03b8f1a60db7d2828",
     "grade": false,
     "grade_id": "cell-2e4a1797335f90e2",
     "locked": true,
     "schema_version": 3,
     "solution": false,
     "task": false
    }
   },
   "source": [
    "## Observation des résultats\n",
    "\n",
    "On peut remarquer que l'étude de ce problème est équivalent à la minimisation d'une fonctionnelle quadratique $ J(x) = \\frac12 \\langle Ax,x\\rangle - \\langle b,x\\rangle$ avec :\n",
    "$$ A = \\lambda I_n + D^TD \\quad \\text{ et } \\quad b=\\lambda v.$$\n",
    "\n",
    "\n",
    "**Q5)** Compléter la fonction `const_A(n,D,par_l)` (où `par_l`$=\\lambda$) qui permet de construire la matrice  **creuse** carrée $A$ de taille $n$. **Attention à bien construire une matrice creuse !**\n"
   ]
  },
  {
   "cell_type": "code",
   "execution_count": 13,
   "metadata": {
    "deletable": false,
    "nbgrader": {
     "cell_type": "code",
     "checksum": "f96b12f097880054825c91de3aeb35c2",
     "grade": false,
     "grade_id": "cell-cb9c6f1856410c32",
     "locked": false,
     "schema_version": 3,
     "solution": true,
     "task": false
    }
   },
   "outputs": [],
   "source": [
    "def const_A(n,D,par_l):\n",
    "    # YOUR CODE HERE\n",
    "    #raise NotImplementedError()\n",
    "    B = np.transpose(D)\n",
    "    I = np.eye(n)\n",
    "    A = par_l*I + B@D \n",
    "    A = sparse.csr_matrix(A)\n",
    "    return A\n"
   ]
  },
  {
   "cell_type": "code",
   "execution_count": 14,
   "metadata": {
    "deletable": false,
    "editable": false,
    "nbgrader": {
     "cell_type": "code",
     "checksum": "37076344095a4de9b8c13cb466573a64",
     "grade": true,
     "grade_id": "cell-08fa567355325b2f",
     "locked": true,
     "points": 2,
     "schema_version": 3,
     "solution": false,
     "task": false
    }
   },
   "outputs": [
    {
     "name": "stdout",
     "output_type": "stream",
     "text": [
      "[[ 1.8 -1.   0.   0.   0.   0.   0.   0.   0.   0. ]\n",
      " [-1.   2.8 -1.   0.   0.   0.   0.   0.   0.   0. ]\n",
      " [ 0.  -1.   2.8 -1.   0.   0.   0.   0.   0.   0. ]\n",
      " [ 0.   0.  -1.   2.8 -1.   0.   0.   0.   0.   0. ]\n",
      " [ 0.   0.   0.  -1.   2.8 -1.   0.   0.   0.   0. ]\n",
      " [ 0.   0.   0.   0.  -1.   2.8 -1.   0.   0.   0. ]\n",
      " [ 0.   0.   0.   0.   0.  -1.   2.8 -1.   0.   0. ]\n",
      " [ 0.   0.   0.   0.   0.   0.  -1.   2.8 -1.   0. ]\n",
      " [ 0.   0.   0.   0.   0.   0.   0.  -1.   2.8 -1. ]\n",
      " [ 0.   0.   0.   0.   0.   0.   0.   0.  -1.   1.8]]\n"
     ]
    }
   ],
   "source": [
    "## On affiche votre matrice A\n",
    "\n",
    "## Calcul de la matrice que vous avez construite\n",
    "mat_D_test = const_D(10)\n",
    "mat_A_test = const_A(10,mat_D_test,l)\n",
    "\n",
    "## On affiche la matrice pour une petite valeur de n\n",
    "print(mat_A_test.todense())\n"
   ]
  },
  {
   "cell_type": "markdown",
   "metadata": {
    "deletable": false,
    "editable": false,
    "nbgrader": {
     "cell_type": "markdown",
     "checksum": "5156fba6167934b4452ca71bd9ee9d87",
     "grade": false,
     "grade_id": "cell-68f4740e998b8c5f",
     "locked": true,
     "schema_version": 3,
     "solution": false,
     "task": false
    }
   },
   "source": [
    "Afin de pouvoir appliquer l'algorithme du gradient à pas fixe avec le pas donnant le meilleur taux de convergence possible on a besoin de connaître la plus grande et la plus petite valeur propre de la matrice $A$ notées `vp_max` et `vp_min`."
   ]
  },
  {
   "cell_type": "code",
   "execution_count": 15,
   "metadata": {
    "deletable": false,
    "editable": false,
    "nbgrader": {
     "cell_type": "code",
     "checksum": "80c477a4a631eac2791b726041a91fdf",
     "grade": false,
     "grade_id": "cell-42b7b7210ab96ab2",
     "locked": true,
     "schema_version": 3,
     "solution": false,
     "task": false
    }
   },
   "outputs": [],
   "source": [
    "mat_A = const_A(n,mat_D,l)\n",
    "\n",
    "# Calcul des valeurs propres \"vp\" de la matrice A \n",
    "# pour pouvoir calculer les pas optimaux des différents algorithmes\n",
    "vp,_=np.linalg.eigh(mat_A.todense())\n",
    "\n",
    "# Plus grande valeur propre de A\n",
    "vp_max=np.max(vp)\n",
    "\n",
    "# Plus petite valeur propre de A\n",
    "vp_min=np.min(vp)\n",
    "\n",
    "# Pas optimal pour l'algorithme du gradient à pas fixe\n",
    "pas_fixe = 2/(vp_min+vp_max)\n"
   ]
  },
  {
   "cell_type": "markdown",
   "metadata": {},
   "source": [
    "On calcule maintenant le minimum de la fonctionnelle $J$\n",
    "pour pouvoir comparer la solution exacte et la solution approchée."
   ]
  },
  {
   "cell_type": "code",
   "execution_count": 16,
   "metadata": {
    "deletable": false,
    "editable": false,
    "nbgrader": {
     "cell_type": "code",
     "checksum": "55bdfa17db96ff0e1cdfd9a8b083a0df",
     "grade": false,
     "grade_id": "cell-38cf82cdba294b42",
     "locked": true,
     "schema_version": 3,
     "solution": false,
     "task": false
    }
   },
   "outputs": [],
   "source": [
    "sol=linalg.spsolve(mat_A.tocsc(), l*vec_v, use_umfpack=True)"
   ]
  },
  {
   "cell_type": "markdown",
   "metadata": {
    "deletable": false,
    "editable": false,
    "nbgrader": {
     "cell_type": "markdown",
     "checksum": "4bf44fd287212a6ffa29e136319bdfdf",
     "grade": false,
     "grade_id": "cell-dd33251feaa767e8",
     "locked": true,
     "schema_version": 3,
     "solution": false,
     "task": false
    }
   },
   "source": [
    "**Q6)** En utilisant les informations données dans le polycopié et en gardant les mêmes notations complétez la fonction `pas_nu` ci-dessous qui permet de calculer le pas $\\nu$ donnant la meilleure vitesse de convergence pour l'algorithme de la boule pesante.\n"
   ]
  },
  {
   "cell_type": "code",
   "execution_count": 17,
   "metadata": {
    "deletable": false,
    "nbgrader": {
     "cell_type": "code",
     "checksum": "c7c34fa9da0882f83ca9daaa4b9ad432",
     "grade": false,
     "grade_id": "cell-cbfe47eb41a2986c",
     "locked": false,
     "schema_version": 3,
     "solution": true,
     "task": false
    }
   },
   "outputs": [],
   "source": [
    "def pas_nu():\n",
    "     \n",
    "    # YOUR CODE HERE\n",
    "    #raise NotImplementedError()\n",
    "    L = np.sqrt(vp_max)\n",
    "    a = np.sqrt(vp_min)\n",
    "    r = (L-a)/(L+a)\n",
    "    return r**2"
   ]
  },
  {
   "cell_type": "code",
   "execution_count": 18,
   "metadata": {
    "deletable": false,
    "editable": false,
    "nbgrader": {
     "cell_type": "code",
     "checksum": "cc02d954664d9e9b0a3bc2329a10e02d",
     "grade": true,
     "grade_id": "cell-3a537b9c024123a8",
     "locked": true,
     "points": 2,
     "schema_version": 3,
     "solution": false,
     "task": false
    }
   },
   "outputs": [
    {
     "name": "stdout",
     "output_type": "stream",
     "text": [
      "0.17657147385383043\n"
     ]
    }
   ],
   "source": [
    "# On affiche le pas nu que vous venez de calculer\n",
    "print(pas_nu())\n"
   ]
  },
  {
   "cell_type": "markdown",
   "metadata": {
    "deletable": false,
    "editable": false,
    "nbgrader": {
     "cell_type": "markdown",
     "checksum": "da47e9c2e0325e34663b0d31afafcf6e",
     "grade": false,
     "grade_id": "cell-168bf6e2f3bd1c62",
     "locked": true,
     "schema_version": 3,
     "solution": false,
     "task": false
    }
   },
   "source": [
    "**Q7)** En utilisant les informations données dans le polycopié et en gardant les mêmes notations complétez la fonction `pas_mu` ci-dessous qui permet de calculer le pas $\\mu$ donnant la meilleure vitesse de convergence pour l'algorithme de la boule pesante.\n",
    "\n"
   ]
  },
  {
   "cell_type": "code",
   "execution_count": 19,
   "metadata": {
    "deletable": false,
    "nbgrader": {
     "cell_type": "code",
     "checksum": "1ef767212a40e3fe9910aa45428c3211",
     "grade": false,
     "grade_id": "cell-43b0247b48401393",
     "locked": false,
     "schema_version": 3,
     "solution": true,
     "task": false
    }
   },
   "outputs": [],
   "source": [
    "def pas_mu():\n",
    "    \n",
    "    # YOUR CODE HERE\n",
    "    #raise NotImplementedError()\n",
    "    L = np.sqrt(vp_max)\n",
    "    a = np.sqrt(vp_min)\n",
    "    r = (L+a)**2\n",
    "    return 4.0/r\n",
    "    "
   ]
  },
  {
   "cell_type": "code",
   "execution_count": 20,
   "metadata": {
    "deletable": false,
    "editable": false,
    "nbgrader": {
     "cell_type": "code",
     "checksum": "fb0483321b7ceaf79b77860fe0e07796",
     "grade": true,
     "grade_id": "cell-986967b57e41d824",
     "locked": true,
     "points": 2,
     "schema_version": 3,
     "solution": false,
     "task": false
    }
   },
   "outputs": [
    {
     "name": "stdout",
     "output_type": "stream",
     "text": [
      "0.4202041274281422\n"
     ]
    }
   ],
   "source": [
    "# On affiche le pas mu que vous venez de calculer\n",
    "print(pas_mu())\n",
    "\n"
   ]
  },
  {
   "cell_type": "markdown",
   "metadata": {
    "deletable": false,
    "editable": false,
    "nbgrader": {
     "cell_type": "markdown",
     "checksum": "bbe84db2f542ce3fad821a70f2d7d604",
     "grade": false,
     "grade_id": "cell-ab05789ce4f03a73",
     "locked": true,
     "schema_version": 3,
     "solution": false,
     "task": false
    }
   },
   "source": [
    "On va maintenant calculer la solution obtenue avec les 3 algorithmes. On trace ensuite pour chacun d'eux l'erreur en fonction du nombre d'itérations. \n",
    "\n",
    "Les résultats obtenus et les informations données dans le polycopié doivent vous permettre de valider ou d'invalider votre code."
   ]
  },
  {
   "cell_type": "code",
   "execution_count": 21,
   "metadata": {
    "deletable": false,
    "editable": false,
    "nbgrader": {
     "cell_type": "code",
     "checksum": "8a80a989be37fa10ec3378bb8bbf1942",
     "grade": false,
     "grade_id": "cell-0be6eb865e6200b2",
     "locked": true,
     "schema_version": 3,
     "solution": false,
     "task": false
    }
   },
   "outputs": [
    {
     "name": "stdout",
     "output_type": "stream",
     "text": [
      "=================================\n",
      "Algorithme du gradient à pas fixe\n",
      "Erreur =  8.871179590278899e-07\n",
      "Convergence = True\n",
      "Nombre d itérations =  52\n",
      "=================================\n",
      "Algorithme du gradient conjugué\n",
      "Erreur =  4.4482258468766665e-07\n",
      "Convergence = True\n",
      "Nombre d itérations =  20\n",
      "=================================\n",
      "Algorithme de la boule pesante\n",
      "Erreur =  1.1001516120718372e-06\n",
      "Convergence = True\n",
      "Nombre d itérations =  23\n"
     ]
    }
   ],
   "source": [
    "x_init=np.ones(n)\n",
    "\n",
    "\n",
    "print('=================================')\n",
    "print('Algorithme du gradient à pas fixe')\n",
    "x_PasFixe, f_PasFixe, conv_PasFixe = gradientPasFixe(fct_J,fct_gradJ,x_init,pas_fixe,1e-6,5000)\n",
    "print('Erreur = ',np.linalg.norm(sol-x_PasFixe[-1]))\n",
    "print('Convergence =',conv_PasFixe)\n",
    "print('Nombre d itérations = ',np.shape(x_PasFixe)[0]-1)\n",
    "\n",
    "print('=================================')\n",
    "print('Algorithme du gradient conjugué')\n",
    "x_Conj, f_Conj, conv_Conj = gradientConjugue(mat_A,l*vec_v,fct_J,x_init,tol=1e-06,maxiter=200)\n",
    "print('Erreur = ',np.linalg.norm(sol-x_Conj[-1]))\n",
    "print('Convergence =', conv_Conj)\n",
    "print('Nombre d itérations = ',np.shape(x_Conj)[0]-1)\n",
    "\n",
    "print('=================================')\n",
    "print('Algorithme de la boule pesante')\n",
    "x_BP, f_BP, conv_BP = boule_pesante(fct_J, fct_gradJ, x_init, pas_mu(), pas_nu(), 1e-6, 5000)\n",
    "print('Erreur = ',np.linalg.norm(sol-x_BP[-1]))\n",
    "print('Convergence =',conv_BP)\n",
    "print('Nombre d itérations = ',np.shape(x_BP)[0]-1)\n"
   ]
  },
  {
   "cell_type": "code",
   "execution_count": 79,
   "metadata": {
    "deletable": false,
    "editable": false,
    "nbgrader": {
     "cell_type": "code",
     "checksum": "a64d184e41e7a055e155fbd24f133655",
     "grade": false,
     "grade_id": "cell-4943f0411dd0839e",
     "locked": true,
     "schema_version": 3,
     "solution": false,
     "task": false
    }
   },
   "outputs": [
    {
     "data": {
      "image/png": "[encoded data removed]",
      "text/plain": [
       "<Figure size 800x800 with 1 Axes>"
      ]
     },
     "metadata": {},
     "output_type": "display_data"
    }
   ],
   "source": [
    "plt.figure(figsize=(8,8))\n",
    "plt.semilogy(np.linalg.norm(x_PasFixe-sol,axis=1),'-r')\n",
    "plt.semilogy(np.linalg.norm(x_Conj-sol,axis=1),'-m')\n",
    "plt.semilogy(np.linalg.norm(x_BP-sol,axis=1),'-b')\n",
    "plt.legend(['Pas fixe','Gradient conjugué','Boule pesante'])\n",
    "plt.title('Vitesse de convergence')\n",
    "plt.xlabel('Itérations')\n",
    "plt.ylabel('Erreur')\n",
    "plt.show()"
   ]
  }
 ],
 "metadata": {
  "kernelspec": {
   "display_name": "Python 3",
   "language": "python",
   "name": "python3"
  },
  "language_info": {
   "codemirror_mode": {
    "name": "ipython",
    "version": 3
   },
   "file_extension": ".py",
   "mimetype": "text/x-python",
   "name": "python",
   "nbconvert_exporter": "python",
   "pygments_lexer": "ipython3",
   "version": "3.11.3"
  },
  "varInspector": {
   "cols": {
    "lenName": 16,
    "lenType": 16,
    "lenVar": 40
   },
   "kernels_config": {
    "python": {
     "delete_cmd_postfix": "",
     "delete_cmd_prefix": "del ",
     "library": "var_list.py",
     "varRefreshCmd": "print(var_dic_list())"
    },
    "r": {
     "delete_cmd_postfix": ") ",
     "delete_cmd_prefix": "rm(",
     "library": "var_list.r",
     "varRefreshCmd": "cat(var_dic_list()) "
    }
   },
   "types_to_exclude": [
    "module",
    "function",
    "builtin_function_or_method",
    "instance",
    "_Feature"
   ],
   "window_display": false
  }
 },
 "nbformat": 4,
 "nbformat_minor": 4
}
